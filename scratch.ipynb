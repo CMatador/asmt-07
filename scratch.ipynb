{
 "cells": [
  {
   "cell_type": "code",
   "execution_count": null,
   "metadata": {},
   "outputs": [],
   "source": [
    "from bs4 import BeautifulSoup\n",
    "import requests\n",
    "from datetime import datetime"
   ]
  },
  {
   "cell_type": "code",
   "execution_count": null,
   "metadata": {},
   "outputs": [],
   "source": [
    "testdate = '2022-12-25'\n",
    "baddate = '01-01-1987'\n",
    "\n",
    "print(f'date string:{testdate}')\n",
    "print(type(testdate))\n",
    "\n",
    "date_object = datetime.strptime(testdate, '%Y-%m-%d').date()\n",
    "print(f'date_object:{date_object}')\n",
    "print(type(date_object))\n",
    "\n",
    "type(date_object)\n"
   ]
  },
  {
   "cell_type": "code",
   "execution_count": null,
   "metadata": {},
   "outputs": [],
   "source": [
    "def is_valid_date(date):\n",
    "    try: \n",
    "        str(datetime.strptime(date, '%Y-%m-%d').date()) == date\n",
    "        return True\n",
    "    except:\n",
    "        raise TypeError('Date is not correct format')\n",
    "\n",
    "is_valid_date(testdate)\n",
    "is_valid_date(baddate)"
   ]
  },
  {
   "cell_type": "code",
   "execution_count": null,
   "metadata": {},
   "outputs": [],
   "source": [
    "# xmas = Holiday('Christmas', '2022-12-25')\n",
    "# print(type(xmas))\n",
    "# print(type(xmas.date))"
   ]
  },
  {
   "cell_type": "code",
   "execution_count": null,
   "metadata": {},
   "outputs": [],
   "source": [
    "def scrapeHolidays():\n",
    "    hdays = []\n",
    "    for year in range(2020, 2025):\n",
    "        # Scrape Holidays from https://www.timeanddate.com/holidays/us/\n",
    "        response = requests.get(f'https://www.timeanddate.com/holidays/us/{year}')\n",
    "        soup = BeautifulSoup(response.text, 'html.parser')\n",
    "        table = soup.find('table', attrs = {'id':'holidays-table'})\n",
    "        tbody = table.find('tbody')\n",
    "\n",
    "        for row in tbody.find_all('tr'):\n",
    "            columns = row.find_all('td')\n",
    "            bolds = row.find_all('th')\n",
    "            holiday = {}\n",
    "            if(columns != []):\n",
    "                holiday['name'] = columns[1].get_text()\n",
    "            if(bolds != []):\n",
    "                holiday['date'] = bolds[0].get_text() + ' ' + str(year)\n",
    "                holiday['date'] = date_converter(holiday['date'])\n",
    "            if holiday not in hdays:\n",
    "                hdays.append(holiday)\n",
    "    return hdays\n",
    "        \n",
    "    # Remember, 2 previous years, current year, and 2  years into the future. You can scrape multiple years by adding year to the timeanddate URL. For example https://www.timeanddate.com/holidays/us/2022\n",
    "    # Check to see if name and date of holiday is in innerHolidays array\n",
    "    # Add non-duplicates to innerHolidays\n",
    "    # Handle any exceptions. "
   ]
  },
  {
   "cell_type": "code",
   "execution_count": null,
   "metadata": {},
   "outputs": [],
   "source": [
    "d = scrapeHolidays()\n",
    "d.pop(0)\n",
    "print(d)"
   ]
  },
  {
   "cell_type": "code",
   "execution_count": null,
   "metadata": {},
   "outputs": [],
   "source": [
    "# Convert Jan 18 2022 -> 2022-01-18\n",
    "bday = 'Jan 18 2022'\n",
    "\n",
    "def date_converter(input):\n",
    "    return datetime.strptime(input, '%b %d %Y').strftime('%Y-%m-%d')\n",
    "\n",
    "date_converter(bday)"
   ]
  },
  {
   "cell_type": "code",
   "execution_count": null,
   "metadata": {},
   "outputs": [],
   "source": [
    "# Exporting to json \n",
    "\n",
    "# fn = 'filename'\n",
    "# with open (fn, 'w') as f:\n",
    "#     json.dump(obj, f, indent=4)"
   ]
  }
 ],
 "metadata": {
  "kernelspec": {
   "display_name": "base",
   "language": "python",
   "name": "python3"
  },
  "language_info": {
   "codemirror_mode": {
    "name": "ipython",
    "version": 3
   },
   "file_extension": ".py",
   "mimetype": "text/x-python",
   "name": "python",
   "nbconvert_exporter": "python",
   "pygments_lexer": "ipython3",
   "version": "3.8.8"
  },
  "orig_nbformat": 4,
  "vscode": {
   "interpreter": {
    "hash": "fb833273add3e7c60eb33c0608260b79a61e072ade6f02cc8d07b0a26eef8ab8"
   }
  }
 },
 "nbformat": 4,
 "nbformat_minor": 2
}
